{
 "cells": [
  {
   "cell_type": "markdown",
   "id": "af3f9f7e",
   "metadata": {},
   "source": [
    "## Introducción\n",
    "\n",
    "### ¿Qué automóvil de lujo, con buenas prestaciones y en excelente estado, sería la mejor opción de compra?\n",
    "\n",
    "Estoy interesado en un vehículo de alta gama. Me gustan las marcas premium como Land Rover, BMW o Mercedes-Benz. Estoy dispuesto a pagar más, siempre que el auto tenga un motor potente (preferiblemente a gasolina o híbrido) y transmisión automática. Busco un modelo que no sea demasiado usado (bajo kilometraje) y que sea relativamente reciente (año de producción alto). El precio no es la limitante principal, lo que más me importa es la calidad, el estado del auto (que no haya sido reparado) y que represente una buena inversión en un vehículo de lujo."
   ]
  },
  {
   "cell_type": "markdown",
   "id": "16244547",
   "metadata": {},
   "source": [
    "## Librerías y ajuste de parámetros"
   ]
  },
  {
   "cell_type": "code",
   "execution_count": 2,
   "id": "924d077e",
   "metadata": {},
   "outputs": [],
   "source": [
    "import sys\n",
    "sys.path.append('..')\n",
    "\n",
    "from src.utils import configurar_graficas, track_data_reduction\n",
    "import pandas as pd\n",
    "import matplotlib.pyplot as plt\n",
    "import seaborn as sns\n",
    "\n",
    "configurar_graficas()"
   ]
  },
  {
   "cell_type": "markdown",
   "id": "f2d773e9",
   "metadata": {},
   "source": [
    "## Carga de datos\n",
    "\n",
    "Se cargarán los datos de 'carros_parte3.csv' y se inspeccionarán inicialmente para entender su estructura y contenido."
   ]
  },
  {
   "cell_type": "code",
   "execution_count": 3,
   "id": "c3647dad",
   "metadata": {},
   "outputs": [
    {
     "name": "stdout",
     "output_type": "stream",
     "text": [
      "<class 'pandas.core.frame.DataFrame'>\n",
      "RangeIndex: 13903 entries, 0 to 13902\n",
      "Data columns (total 20 columns):\n",
      " #   Column             Non-Null Count  Dtype         \n",
      "---  ------             --------------  -----         \n",
      " 0   manufacturer_name  13903 non-null  object        \n",
      " 1   model_name         13903 non-null  object        \n",
      " 2   transmission       13903 non-null  object        \n",
      " 3   color              13903 non-null  object        \n",
      " 4   odometer_value     13903 non-null  int64         \n",
      " 5   year_produced      13903 non-null  datetime64[ns]\n",
      " 6   engine_fuel        13903 non-null  object        \n",
      " 7   engine_has_gas     13903 non-null  bool          \n",
      " 8   engine_type        13903 non-null  object        \n",
      " 9   engine_capacity    13903 non-null  float64       \n",
      " 10  body_type          13903 non-null  object        \n",
      " 11  has_warranty       13903 non-null  bool          \n",
      " 12  state              13903 non-null  object        \n",
      " 13  drivetrain         13903 non-null  object        \n",
      " 14  price_usd          13903 non-null  float64       \n",
      " 15  is_exchangeable    13903 non-null  bool          \n",
      " 16  location_region    13903 non-null  object        \n",
      " 17  number_of_photos   13903 non-null  int64         \n",
      " 18  up_counter         13903 non-null  int64         \n",
      " 19  duration_listed    13903 non-null  int64         \n",
      "dtypes: bool(3), datetime64[ns](1), float64(2), int64(4), object(10)\n",
      "memory usage: 1.8+ MB\n"
     ]
    }
   ],
   "source": [
    "df = pd.read_csv('../Data/carros_parte3.csv', parse_dates=['year_produced'])\n",
    "df.info()"
   ]
  }
 ],
 "metadata": {
  "kernelspec": {
   "display_name": "used-car-data-analysis",
   "language": "python",
   "name": "python3"
  },
  "language_info": {
   "codemirror_mode": {
    "name": "ipython",
    "version": 3
   },
   "file_extension": ".py",
   "mimetype": "text/x-python",
   "name": "python",
   "nbconvert_exporter": "python",
   "pygments_lexer": "ipython3",
   "version": "3.8.20"
  }
 },
 "nbformat": 4,
 "nbformat_minor": 5
}
