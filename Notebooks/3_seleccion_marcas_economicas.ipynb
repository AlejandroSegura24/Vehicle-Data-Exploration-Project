{
 "cells": [
  {
   "cell_type": "markdown",
   "id": "933dd7bf",
   "metadata": {},
   "source": [
    "## Introducción\n",
    "### ¿Cuál es el automóvil más económico y confiable que puedo comprar, considerando que lo necesito para uso diario en la ciudad?\n",
    "\n",
    "**cliente 1:**\n",
    "Estoy buscando un auto principalmente para movilizarme en la ciudad. No me interesa que sea de lujo, pero sí que sea económico en precio (entre 8,000 y 15,000 USD) y en consumo de combustible. Prefiero que tenga transmisión automática, porque me resulta más cómoda en el tráfico. No me importa mucho la marca, pero quiero que el auto tenga un kilometraje bajo y que no sea demasiado antiguo (idealmente de los últimos 10 años). El presupuesto que tengo es limitado, así que necesito que el vehículo esté en buen estado y que sea accesible en precio. "
   ]
  },
  {
   "cell_type": "markdown",
   "id": "10c4db01",
   "metadata": {},
   "source": [
    "## Librerías y ajuste de parámetros"
   ]
  },
  {
   "cell_type": "code",
   "execution_count": 2,
   "id": "342fb2c4",
   "metadata": {},
   "outputs": [],
   "source": [
    "import sys\n",
    "sys.path.append('..')\n",
    "\n",
    "from src.utils import configurar_graficas, track_data_reduction\n",
    "import numpy as np\n",
    "import pandas as pd\n",
    "import matplotlib.pyplot as plt\n",
    "import seaborn as sns\n",
    "\n",
    "configurar_graficas()"
   ]
  },
  {
   "cell_type": "markdown",
   "id": "429ee6f5",
   "metadata": {},
   "source": [
    "## Carga de datos\n",
    "\n",
    "Se cargarán los datos de 'carros_parte2.csv' y se inspeccionarán inicialmente para entender su estructura y contenido."
   ]
  },
  {
   "cell_type": "code",
   "execution_count": 3,
   "id": "78096745",
   "metadata": {},
   "outputs": [
    {
     "name": "stdout",
     "output_type": "stream",
     "text": [
      "<class 'pandas.core.frame.DataFrame'>\n",
      "RangeIndex: 16747 entries, 0 to 16746\n",
      "Data columns (total 20 columns):\n",
      " #   Column             Non-Null Count  Dtype         \n",
      "---  ------             --------------  -----         \n",
      " 0   manufacturer_name  16747 non-null  object        \n",
      " 1   model_name         16747 non-null  object        \n",
      " 2   transmission       16747 non-null  object        \n",
      " 3   color              16747 non-null  object        \n",
      " 4   odometer_value     16747 non-null  int64         \n",
      " 5   year_produced      16747 non-null  datetime64[ns]\n",
      " 6   engine_fuel        16747 non-null  object        \n",
      " 7   engine_has_gas     16747 non-null  bool          \n",
      " 8   engine_type        16747 non-null  object        \n",
      " 9   engine_capacity    16747 non-null  float64       \n",
      " 10  body_type          16747 non-null  object        \n",
      " 11  has_warranty       16747 non-null  bool          \n",
      " 12  state              16747 non-null  object        \n",
      " 13  drivetrain         16747 non-null  object        \n",
      " 14  price_usd          16747 non-null  float64       \n",
      " 15  is_exchangeable    16747 non-null  bool          \n",
      " 16  location_region    16747 non-null  object        \n",
      " 17  number_of_photos   16747 non-null  int64         \n",
      " 18  up_counter         16747 non-null  int64         \n",
      " 19  duration_listed    16747 non-null  int64         \n",
      "dtypes: bool(3), datetime64[ns](1), float64(2), int64(4), object(10)\n",
      "memory usage: 2.2+ MB\n"
     ]
    }
   ],
   "source": [
    "data = pd.read_csv('../Data/carros_parte2.csv',  parse_dates=['year_produced'])\n",
    "data.info()"
   ]
  }
 ],
 "metadata": {
  "kernelspec": {
   "display_name": "used-car-data-analysis",
   "language": "python",
   "name": "python3"
  },
  "language_info": {
   "codemirror_mode": {
    "name": "ipython",
    "version": 3
   },
   "file_extension": ".py",
   "mimetype": "text/x-python",
   "name": "python",
   "nbconvert_exporter": "python",
   "pygments_lexer": "ipython3",
   "version": "3.8.20"
  }
 },
 "nbformat": 4,
 "nbformat_minor": 5
}
